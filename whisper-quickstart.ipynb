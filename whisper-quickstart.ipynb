{
  "nbformat": 4,
  "nbformat_minor": 0,
  "metadata": {
    "colab": {
      "provenance": [],
      "gpuType": "T4"
    },
    "kernelspec": {
      "name": "python3",
      "display_name": "Python 3"
    },
    "language_info": {
      "name": "python"
    },
    "accelerator": "GPU"
  },
  "cells": [
    {
      "cell_type": "markdown",
      "source": [
        "# Install dependencies"
      ],
      "metadata": {
        "id": "7wLB-tG35zBt"
      }
    },
    {
      "cell_type": "code",
      "source": [
        "!pip install git+https://github.com/openai/whisper.git\n",
        "!sudo apt update && sudo apt install ffmpeg"
      ],
      "metadata": {
        "colab": {
          "base_uri": "https://localhost:8080/"
        },
        "id": "tAQQn-gQodOe",
        "outputId": "113c0bb4-cd37-4175-ec40-d859aff867ab"
      },
      "execution_count": 1,
      "outputs": [
        {
          "output_type": "stream",
          "name": "stdout",
          "text": [
            "Collecting git+https://github.com/openai/whisper.git\n",
            "  Cloning https://github.com/openai/whisper.git to /tmp/pip-req-build-0oo9oirj\n",
            "  Running command git clone --filter=blob:none --quiet https://github.com/openai/whisper.git /tmp/pip-req-build-0oo9oirj\n",
            "  Resolved https://github.com/openai/whisper.git to commit 90db0de1896c23cbfaf0c58bc2d30665f709f170\n",
            "  Installing build dependencies ... \u001b[?25l\u001b[?25hdone\n",
            "  Getting requirements to build wheel ... \u001b[?25l\u001b[?25hdone\n",
            "  Preparing metadata (pyproject.toml) ... \u001b[?25l\u001b[?25hdone\n",
            "Requirement already satisfied: numba in /usr/local/lib/python3.10/dist-packages (from openai-whisper==20240930) (0.60.0)\n",
            "Requirement already satisfied: numpy in /usr/local/lib/python3.10/dist-packages (from openai-whisper==20240930) (1.26.4)\n",
            "Requirement already satisfied: torch in /usr/local/lib/python3.10/dist-packages (from openai-whisper==20240930) (2.5.1+cu121)\n",
            "Requirement already satisfied: tqdm in /usr/local/lib/python3.10/dist-packages (from openai-whisper==20240930) (4.67.1)\n",
            "Requirement already satisfied: more-itertools in /usr/local/lib/python3.10/dist-packages (from openai-whisper==20240930) (10.5.0)\n",
            "Collecting tiktoken (from openai-whisper==20240930)\n",
            "  Downloading tiktoken-0.8.0-cp310-cp310-manylinux_2_17_x86_64.manylinux2014_x86_64.whl.metadata (6.6 kB)\n",
            "Collecting triton>=2.0.0 (from openai-whisper==20240930)\n",
            "  Downloading triton-3.1.0-cp310-cp310-manylinux_2_17_x86_64.manylinux2014_x86_64.whl.metadata (1.3 kB)\n",
            "Requirement already satisfied: filelock in /usr/local/lib/python3.10/dist-packages (from triton>=2.0.0->openai-whisper==20240930) (3.16.1)\n",
            "Requirement already satisfied: llvmlite<0.44,>=0.43.0dev0 in /usr/local/lib/python3.10/dist-packages (from numba->openai-whisper==20240930) (0.43.0)\n",
            "Requirement already satisfied: regex>=2022.1.18 in /usr/local/lib/python3.10/dist-packages (from tiktoken->openai-whisper==20240930) (2024.11.6)\n",
            "Requirement already satisfied: requests>=2.26.0 in /usr/local/lib/python3.10/dist-packages (from tiktoken->openai-whisper==20240930) (2.32.3)\n",
            "Requirement already satisfied: typing-extensions>=4.8.0 in /usr/local/lib/python3.10/dist-packages (from torch->openai-whisper==20240930) (4.12.2)\n",
            "Requirement already satisfied: networkx in /usr/local/lib/python3.10/dist-packages (from torch->openai-whisper==20240930) (3.4.2)\n",
            "Requirement already satisfied: jinja2 in /usr/local/lib/python3.10/dist-packages (from torch->openai-whisper==20240930) (3.1.4)\n",
            "Requirement already satisfied: fsspec in /usr/local/lib/python3.10/dist-packages (from torch->openai-whisper==20240930) (2024.10.0)\n",
            "Requirement already satisfied: sympy==1.13.1 in /usr/local/lib/python3.10/dist-packages (from torch->openai-whisper==20240930) (1.13.1)\n",
            "Requirement already satisfied: mpmath<1.4,>=1.1.0 in /usr/local/lib/python3.10/dist-packages (from sympy==1.13.1->torch->openai-whisper==20240930) (1.3.0)\n",
            "Requirement already satisfied: charset-normalizer<4,>=2 in /usr/local/lib/python3.10/dist-packages (from requests>=2.26.0->tiktoken->openai-whisper==20240930) (3.4.0)\n",
            "Requirement already satisfied: idna<4,>=2.5 in /usr/local/lib/python3.10/dist-packages (from requests>=2.26.0->tiktoken->openai-whisper==20240930) (3.10)\n",
            "Requirement already satisfied: urllib3<3,>=1.21.1 in /usr/local/lib/python3.10/dist-packages (from requests>=2.26.0->tiktoken->openai-whisper==20240930) (2.2.3)\n",
            "Requirement already satisfied: certifi>=2017.4.17 in /usr/local/lib/python3.10/dist-packages (from requests>=2.26.0->tiktoken->openai-whisper==20240930) (2024.12.14)\n",
            "Requirement already satisfied: MarkupSafe>=2.0 in /usr/local/lib/python3.10/dist-packages (from jinja2->torch->openai-whisper==20240930) (3.0.2)\n",
            "Downloading triton-3.1.0-cp310-cp310-manylinux_2_17_x86_64.manylinux2014_x86_64.whl (209.5 MB)\n",
            "\u001b[2K   \u001b[90m━━━━━━━━━━━━━━━━━━━━━━━━━━━━━━━━━━━━━━━━\u001b[0m \u001b[32m209.5/209.5 MB\u001b[0m \u001b[31m6.9 MB/s\u001b[0m eta \u001b[36m0:00:00\u001b[0m\n",
            "\u001b[?25hDownloading tiktoken-0.8.0-cp310-cp310-manylinux_2_17_x86_64.manylinux2014_x86_64.whl (1.2 MB)\n",
            "\u001b[2K   \u001b[90m━━━━━━━━━━━━━━━━━━━━━━━━━━━━━━━━━━━━━━━━\u001b[0m \u001b[32m1.2/1.2 MB\u001b[0m \u001b[31m48.9 MB/s\u001b[0m eta \u001b[36m0:00:00\u001b[0m\n",
            "\u001b[?25hBuilding wheels for collected packages: openai-whisper\n",
            "  Building wheel for openai-whisper (pyproject.toml) ... \u001b[?25l\u001b[?25hdone\n",
            "  Created wheel for openai-whisper: filename=openai_whisper-20240930-py3-none-any.whl size=803583 sha256=152832b656c078544ff3b90964d62cc84dd7627560aa28fe3f0f5162c90f33e0\n",
            "  Stored in directory: /tmp/pip-ephem-wheel-cache-at01p370/wheels/8b/6c/d0/622666868c179f156cf595c8b6f06f88bc5d80c4b31dccaa03\n",
            "Successfully built openai-whisper\n",
            "Installing collected packages: triton, tiktoken, openai-whisper\n",
            "Successfully installed openai-whisper-20240930 tiktoken-0.8.0 triton-3.1.0\n",
            "Get:1 https://cloud.r-project.org/bin/linux/ubuntu jammy-cran40/ InRelease [3,626 B]\n",
            "Get:2 http://security.ubuntu.com/ubuntu jammy-security InRelease [129 kB]\n",
            "Get:3 https://developer.download.nvidia.com/compute/cuda/repos/ubuntu2204/x86_64  InRelease [1,581 B]\n",
            "Get:4 https://r2u.stat.illinois.edu/ubuntu jammy InRelease [6,555 B]\n",
            "Get:5 https://developer.download.nvidia.com/compute/cuda/repos/ubuntu2204/x86_64  Packages [1,197 kB]\n",
            "Hit:6 http://archive.ubuntu.com/ubuntu jammy InRelease\n",
            "Get:7 https://r2u.stat.illinois.edu/ubuntu jammy/main amd64 Packages [2,631 kB]\n",
            "Get:8 http://archive.ubuntu.com/ubuntu jammy-updates InRelease [128 kB]\n",
            "Get:9 http://security.ubuntu.com/ubuntu jammy-security/universe amd64 Packages [1,226 kB]\n",
            "Hit:10 https://ppa.launchpadcontent.net/deadsnakes/ppa/ubuntu jammy InRelease\n",
            "Hit:11 https://ppa.launchpadcontent.net/graphics-drivers/ppa/ubuntu jammy InRelease\n",
            "Get:12 http://security.ubuntu.com/ubuntu jammy-security/restricted amd64 Packages [3,448 kB]\n",
            "Get:13 https://r2u.stat.illinois.edu/ubuntu jammy/main all Packages [8,563 kB]\n",
            "Hit:14 https://ppa.launchpadcontent.net/ubuntugis/ppa/ubuntu jammy InRelease\n",
            "Get:15 http://security.ubuntu.com/ubuntu jammy-security/main amd64 Packages [2,517 kB]\n",
            "Get:16 http://archive.ubuntu.com/ubuntu jammy-backports InRelease [127 kB]\n",
            "Get:17 http://archive.ubuntu.com/ubuntu jammy-updates/universe amd64 Packages [1,517 kB]\n",
            "Get:18 http://archive.ubuntu.com/ubuntu jammy-updates/main amd64 Packages [2,840 kB]\n",
            "Get:19 http://archive.ubuntu.com/ubuntu jammy-updates/restricted amd64 Packages [3,633 kB]\n",
            "Get:20 http://archive.ubuntu.com/ubuntu jammy-backports/universe amd64 Packages [33.8 kB]\n",
            "Get:21 http://archive.ubuntu.com/ubuntu jammy-backports/main amd64 Packages [81.4 kB]\n",
            "Fetched 28.1 MB in 3s (9,815 kB/s)\n",
            "Reading package lists... Done\n",
            "Building dependency tree... Done\n",
            "Reading state information... Done\n",
            "50 packages can be upgraded. Run 'apt list --upgradable' to see them.\n",
            "\u001b[1;33mW: \u001b[0mSkipping acquire of configured file 'main/source/Sources' as repository 'https://r2u.stat.illinois.edu/ubuntu jammy InRelease' does not seem to provide it (sources.list entry misspelt?)\u001b[0m\n",
            "Reading package lists... Done\n",
            "Building dependency tree... Done\n",
            "Reading state information... Done\n",
            "ffmpeg is already the newest version (7:4.4.2-0ubuntu0.22.04.1).\n",
            "0 upgraded, 0 newly installed, 0 to remove and 50 not upgraded.\n"
          ]
        }
      ]
    },
    {
      "cell_type": "markdown",
      "source": [
        "![Screenshot 2024-12-31 at 08-43-35 whisper_model-card.md at main · openai_whisper.png](data:image/png;base64,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)"
      ],
      "metadata": {
        "id": "FMktbhtXssX5"
      }
    },
    {
      "cell_type": "markdown",
      "source": [
        "# Phrase-to-Phrase Transcription/Translation"
      ],
      "metadata": {
        "id": "QdZrtWz25TAR"
      }
    },
    {
      "cell_type": "code",
      "source": [
        "# !whisper \"38c3.mp4\" --model large #---- transcribe\n",
        "!whisper \"38c3.mp4\" --model large --task translate #---- translate, turbo model can't translate"
      ],
      "metadata": {
        "colab": {
          "base_uri": "https://localhost:8080/"
        },
        "id": "aOwPm0fVo4MC",
        "outputId": "e9fe96f9-320b-40be-e833-ce9eead4212e"
      },
      "execution_count": 17,
      "outputs": [
        {
          "output_type": "stream",
          "name": "stdout",
          "text": [
            "/usr/local/lib/python3.10/dist-packages/whisper/__init__.py:150: FutureWarning: You are using `torch.load` with `weights_only=False` (the current default value), which uses the default pickle module implicitly. It is possible to construct malicious pickle data which will execute arbitrary code during unpickling (See https://github.com/pytorch/pytorch/blob/main/SECURITY.md#untrusted-models for more details). In a future release, the default value for `weights_only` will be flipped to `True`. This limits the functions that could be executed during unpickling. Arbitrary objects will no longer be allowed to be loaded via this mode unless they are explicitly allowlisted by the user via `torch.serialization.add_safe_globals`. We recommend you start setting `weights_only=True` for any use case where you don't have full control of the loaded file. Please open an issue on GitHub for any issues related to this experimental feature.\n",
            "  checkpoint = torch.load(fp, map_location=device)\n",
            "Detecting language using up to the first 30 seconds. Use `--language` to specify the language\n",
            "Detected language: German\n",
            "[00:00.000 --> 00:25.000]  Today, Andreas and Sebastian will explain to us how we can set up a Nextcloud server and run it from home.\n",
            "[00:25.000 --> 00:35.000]  And how we can be a little more autonomous and better deal with our data.\n",
            "[00:35.000 --> 00:41.000]  And now a big round of applause for Sebastian and Andreas.\n",
            "[00:41.000 --> 00:45.000]  And then we can start right away.\n",
            "[00:45.000 --> 00:48.000]  You have already tried to give a lecture before.\n",
            "[00:48.000 --> 00:50.000]  And now you have to be very fast.\n",
            "[00:50.000 --> 00:52.000]  That's why we're trying to start now.\n",
            "[00:52.000 --> 00:54.000]  Let's go.\n",
            "[00:54.000 --> 00:56.000]  Yes, hello.\n",
            "[00:56.000 --> 01:00.000]  The Internet is full of good services.\n",
            "[01:00.000 --> 01:04.000]  Practical services that we all always like to take into account.\n",
            "[01:04.000 --> 01:11.000]  So, for example, services with which you can edit files online, share with people and so on.\n",
            "[01:11.000 --> 01:13.000]  All great things.\n",
            "[01:13.000 --> 01:17.000]  The problem is, so one problem we have just learned, namely that they all have a terrible login flow.\n",
            "[01:17.000 --> 01:23.000]  The second is that you usually have to sell your soul by signing such AGBs.\n",
            "[01:23.000 --> 01:31.000]  That's why we thought in 2020, then we'll do it ourselves.\n",
            "[01:31.000 --> 01:38.000]  And we started to think of a setup at home for our direct neighborhood.\n",
            "[01:38.000 --> 01:40.000]  That's about 50 people.\n",
            "[01:40.000 --> 01:49.000]  An infrastructure with Nextcloud for managing files, sharing files and creating calendars for shared spaces.\n",
            "[01:49.000 --> 01:51.000]  So exactly.\n",
            "[01:51.000 --> 01:54.000]  Yes.\n",
            "[01:54.000 --> 01:57.000]  What is a Nextcloud?\n",
            "[01:57.000 --> 02:00.000]  So we're going to give a beginner talk here.\n",
            "[02:00.000 --> 02:02.000]  That's why we wanted to show you again briefly.\n",
            "[02:02.000 --> 02:04.000]  What do we actually want to achieve here?\n",
            "[02:04.000 --> 02:06.000]  So this is what a Nextcloud looks like.\n",
            "[02:06.000 --> 02:10.000]  So it's a service in which you can upload files relatively easily with drag and drop.\n",
            "[02:10.000 --> 02:12.000]  It is managed by the user.\n",
            "[02:12.000 --> 02:15.000]  That means everyone can have their own workspace first.\n",
            "[02:15.000 --> 02:17.000]  Can have the files there only for themselves.\n",
            "[02:17.000 --> 02:20.000]  But you can also form groups or share files with other users.\n",
            "[02:20.000 --> 02:21.000]  Work together.\n",
            "[02:21.000 --> 02:23.000]  So a lot of things.\n",
            "[02:23.000 --> 02:25.000]  And it is very much expandable.\n",
            "[02:25.000 --> 02:28.000]  So up here you can already see such a small approach.\n",
            "[02:28.000 --> 02:29.000]  So there is here.\n",
            "[02:29.000 --> 02:30.000]  I don't know how much you can recognize.\n",
            "[02:30.000 --> 02:31.000]  Oh, okay, nothing at all.\n",
            "[02:31.000 --> 02:32.000]  Very good.\n",
            "[02:32.000 --> 02:35.000]  So up there there is a whole list of apps and plugins.\n",
            "[02:35.000 --> 02:36.000]  That is very much expandable.\n",
            "[02:36.000 --> 02:41.000]  For example, you can also embed calendars there.\n",
            "[02:41.000 --> 02:46.000]  Create calendars, embed e-mails, create surveys, everything.\n",
            "[02:46.000 --> 02:49.000]  And that's always either for yourself or shared with others.\n",
            "[02:49.000 --> 02:50.000]  So much in a nutshell.\n",
            "[02:50.000 --> 02:51.000]  Exactly.\n",
            "[02:51.000 --> 02:52.000]  Yes, let's skip that.\n",
            "[02:52.000 --> 02:53.000]  Exactly.\n",
            "[02:53.000 --> 03:09.000]  When we thought about doing this talk, we were forced, and that is actually the most valuable thing about this talk preparation,\n",
            "[03:09.000 --> 03:15.000]  that we had to go through our setup that we had built and expanded over the years, step by step,\n",
            "[03:15.000 --> 03:18.000]  and look at how to really do it.\n",
            "[03:18.000 --> 03:21.000]  How to build it step by step and then documented it.\n",
            "[03:21.000 --> 03:28.000]  That means there is a repository in which we really showed step by step with every bash line that you have to execute,\n",
            "[03:28.000 --> 03:34.000]  and there are not so many, how to get to the result that we show you here.\n",
            "[03:34.000 --> 03:36.000]  And we'll show you the repository at the very end.\n",
            "[03:36.000 --> 03:37.000]  So stay tuned.\n",
            "[03:37.000 --> 03:39.000]  Exactly.\n",
            "[03:39.000 --> 03:47.000]  In the presentation here, we would rather explain all the steps at a high level and not go into detail how to do it.\n",
            "[03:47.000 --> 03:51.000]  But everything is very well documented, I claim now.\n",
            "[03:51.000 --> 03:53.000]  Exactly.\n",
            "[03:53.000 --> 04:04.000]  Yes, when you start something like this, you have a Linux server at the end and have learned how to set up services quite easily and either others or yourself.\n",
            "[04:04.000 --> 04:07.000]  And that's the beginning of a journey.\n",
            "[04:07.000 --> 04:08.000]  We wrote it down there.\n",
            "[04:08.000 --> 04:09.000]  So that's it.\n",
            "[04:09.000 --> 04:11.000]  Once you have that, it makes you a little addicted.\n",
            "[04:11.000 --> 04:14.000]  So then you will also find other use cases.\n",
            "[04:14.000 --> 04:15.000]  Exactly.\n",
            "[04:15.000 --> 04:16.000]  Let's start with our nextcloud.\n",
            "[04:16.000 --> 04:17.000]  Yes.\n",
            "[04:17.000 --> 04:18.000]  Exactly.\n",
            "[04:18.000 --> 04:22.000]  I would now tell you a little bit about the tools that we have selected.\n",
            "[04:22.000 --> 04:24.000]  Basically, we are here in the DevOps area.\n",
            "[04:24.000 --> 04:25.000]  So how do I do hosting?\n",
            "[04:25.000 --> 04:28.000]  There is a very, very large selection of support technologies.\n",
            "[04:28.000 --> 04:36.000]  We have now tried to choose a setup that is as simple as possible with as few tools as possible so that you are not completely defeated by the whole thing.\n",
            "[04:36.000 --> 04:41.000]  It's not necessarily the best if I want to run 50 nextclouds now, but it's about this use case.\n",
            "[04:41.000 --> 04:44.000]  You can start your own lab environment at home.\n",
            "[04:44.000 --> 04:46.000]  That means as simple as possible.\n",
            "[04:46.000 --> 04:47.000]  You have a setup.\n",
            "[04:47.000 --> 04:49.000]  You can also modularly pack other things on it.\n",
            "[04:49.000 --> 04:52.000]  And it was important that you have a secure perimeter.\n",
            "[04:52.000 --> 04:57.000]  So basically everything that can be reached from the internet must be secure.\n",
            "[04:57.000 --> 05:00.000]  And that was our goal there in principle.\n",
            "[05:00.000 --> 05:04.000]  You will also find a little more details in the repo.\n",
            "[05:04.000 --> 05:06.000]  And about the starting position.\n",
            "[05:06.000 --> 05:09.000]  So we assume that you already have hardware flying around.\n",
            "[05:09.000 --> 05:11.000]  So an old notebook that you can then use as a server.\n",
            "[05:11.000 --> 05:13.000]  So a simple entry as possible.\n",
            "[05:13.000 --> 05:15.000]  And you basically need another device as an admin machine.\n",
            "[05:15.000 --> 05:18.000]  There you can then surf the websites.\n",
            "[05:18.000 --> 05:23.000]  So the nextcloud itself or the help website, I would say, for the help tools.\n",
            "[05:23.000 --> 05:27.000]  And we set basic knowledge of computer science ahead.\n",
            "[05:27.000 --> 05:31.000]  It is always a bit difficult to define basic knowledge.\n",
            "[05:31.000 --> 05:33.000]  We have tried to make everything as simple as possible.\n",
            "[05:33.000 --> 05:35.000]  We have all the commands that have to be executed.\n",
            "[05:35.000 --> 05:36.000]  They are all in the repo.\n",
            "[05:36.000 --> 05:38.000]  You can then look into it if you want to do it.\n",
            "[05:38.000 --> 05:42.000]  But at least to have a command line seen once would be quite good.\n",
            "[05:42.000 --> 05:43.000]  Exactly.\n",
            "[05:43.000 --> 05:46.000]  And then that was the starting position.\n",
            "[05:46.000 --> 05:47.000]  Now to the end state.\n",
            "[05:47.000 --> 05:49.000]  So our end state is.\n",
            "[05:49.000 --> 05:53.000]  We have set 38c3.fun as a test.\n",
            "[05:53.000 --> 05:55.000]  I'll scroll in here a little bit.\n",
            "[05:55.000 --> 05:56.000]  Then you might see it.\n",
            "[05:56.000 --> 05:57.000]  Yes.\n",
            "[05:57.000 --> 05:59.000]  There is this official nextcloud scan.\n",
            "[05:59.000 --> 06:02.000]  In principle, you can have internet-reachable nextclouds scanned.\n",
            "[06:02.000 --> 06:03.000]  Whether they are safe.\n",
            "[06:03.000 --> 06:07.000]  It checks a few settings.\n",
            "[06:07.000 --> 06:08.000]  Whether it is encrypted.\n",
            "[06:08.000 --> 06:09.000]  The setup.\n",
            "[06:09.000 --> 06:11.000]  So also HTTP header things.\n",
            "[06:11.000 --> 06:12.000]  And specifically.\n",
            "[06:12.000 --> 06:14.000]  It has the latest patch level.\n",
            "[06:14.000 --> 06:16.000]  And the version is still in order.\n",
            "[06:16.000 --> 06:18.000]  And if you follow our repo.\n",
            "[06:18.000 --> 06:20.000]  Then, in principle, an A plus page comes out.\n",
            "[06:20.000 --> 06:23.000]  So it won't get any better according to this check.\n",
            "[06:23.000 --> 06:25.000]  It's not all about security now.\n",
            "[06:25.000 --> 06:29.000]  But that's what the manufacturer has provided.\n",
            "[06:29.000 --> 06:30.000]  And the most important thing is.\n",
            "[06:30.000 --> 06:31.000]  If you want to do something like that.\n",
            "[06:31.000 --> 06:34.000]  So it definitely has to be patched.\n",
            "[06:34.000 --> 06:36.000]  Exactly.\n",
            "[06:36.000 --> 06:37.000]  So.\n",
            "[06:37.000 --> 06:40.000]  Then briefly mentioned nextcloud all in one.\n",
            "[06:40.000 --> 06:41.000]  That is from.\n",
            "[06:41.000 --> 06:43.000]  There is the nextcloud GmbH.\n",
            "[06:43.000 --> 06:44.000]  That is open core.\n",
            "[06:44.000 --> 06:46.000]  Nextcloud is open source.\n",
            "[06:46.000 --> 06:50.000]  And there is this company that maintains this open source code.\n",
            "[06:50.000 --> 06:53.000]  And they have such an recommended minimal setup.\n",
            "[06:53.000 --> 06:54.000]  This is the all in one.\n",
            "[06:54.000 --> 06:56.000]  You see it here.\n",
            "[06:56.000 --> 06:57.000]  When we started in 2020.\n",
            "[06:57.000 --> 06:58.000]  That didn't exist yet.\n",
            "[06:58.000 --> 07:00.000]  That is definitely a great setup.\n",
            "[07:00.000 --> 07:03.000]  That is such a battery included thing.\n",
            "[07:03.000 --> 07:05.000]  So I install something there.\n",
            "[07:05.000 --> 07:07.000]  And then everything happens automatically.\n",
            "[07:07.000 --> 07:09.000]  As far as we looked at it now.\n",
            "[07:09.000 --> 07:10.000]  We didn't have that.\n",
            "[07:10.000 --> 07:13.000]  We don't talk about it here either.\n",
            "[07:13.000 --> 07:14.000]  Exactly.\n",
            "[07:14.000 --> 07:15.000]  Yes.\n"
          ]
        }
      ]
    },
    {
      "cell_type": "markdown",
      "source": [
        "# Word-to-word transcription/translation"
      ],
      "metadata": {
        "id": "e3LbPzjH5iur"
      }
    },
    {
      "cell_type": "code",
      "source": [
        "!pip install -U git+https://github.com/jianfch/stable-ts.git\n",
        "\n",
        "import stable_whisper\n",
        "model = stable_whisper.load_model('medium')\n",
        "# result = model.transcribe('38c3.mp4')                      ----Transcribe\n",
        "#result = model.transcribe('38c3.mp4', task=\"translate\")     ----Translate\n",
        "\n",
        "result.to_srt_vtt('pop.srt', segment_level=False)"
      ],
      "metadata": {
        "colab": {
          "base_uri": "https://localhost:8080/"
        },
        "id": "Ncef0DnWplEe",
        "outputId": "a0cb3a20-9e3f-4ad4-d36a-306ac1715848"
      },
      "execution_count": 20,
      "outputs": [
        {
          "output_type": "stream",
          "name": "stdout",
          "text": [
            "Collecting git+https://github.com/jianfch/stable-ts.git\n",
            "  Cloning https://github.com/jianfch/stable-ts.git to /tmp/pip-req-build-z125wzio\n",
            "  Running command git clone --filter=blob:none --quiet https://github.com/jianfch/stable-ts.git /tmp/pip-req-build-z125wzio\n",
            "  Resolved https://github.com/jianfch/stable-ts.git to commit 158559a3ed8f9bcd3929dc6d6dd4c48c6f6b4427\n",
            "  Preparing metadata (setup.py) ... \u001b[?25l\u001b[?25hdone\n",
            "Requirement already satisfied: numpy in /usr/local/lib/python3.10/dist-packages (from stable-ts==2.18.0) (1.26.4)\n",
            "Requirement already satisfied: torch in /usr/local/lib/python3.10/dist-packages (from stable-ts==2.18.0) (2.5.1+cu121)\n",
            "Requirement already satisfied: torchaudio in /usr/local/lib/python3.10/dist-packages (from stable-ts==2.18.0) (2.5.1+cu121)\n",
            "Requirement already satisfied: tqdm in /usr/local/lib/python3.10/dist-packages (from stable-ts==2.18.0) (4.67.1)\n",
            "Requirement already satisfied: openai-whisper<=20240930,>=20230314 in /usr/local/lib/python3.10/dist-packages (from stable-ts==2.18.0) (20240930)\n",
            "Requirement already satisfied: numba in /usr/local/lib/python3.10/dist-packages (from openai-whisper<=20240930,>=20230314->stable-ts==2.18.0) (0.60.0)\n",
            "Requirement already satisfied: more-itertools in /usr/local/lib/python3.10/dist-packages (from openai-whisper<=20240930,>=20230314->stable-ts==2.18.0) (10.5.0)\n",
            "Requirement already satisfied: tiktoken in /usr/local/lib/python3.10/dist-packages (from openai-whisper<=20240930,>=20230314->stable-ts==2.18.0) (0.8.0)\n",
            "Requirement already satisfied: triton>=2.0.0 in /usr/local/lib/python3.10/dist-packages (from openai-whisper<=20240930,>=20230314->stable-ts==2.18.0) (3.1.0)\n",
            "Requirement already satisfied: filelock in /usr/local/lib/python3.10/dist-packages (from torch->stable-ts==2.18.0) (3.16.1)\n",
            "Requirement already satisfied: typing-extensions>=4.8.0 in /usr/local/lib/python3.10/dist-packages (from torch->stable-ts==2.18.0) (4.12.2)\n",
            "Requirement already satisfied: networkx in /usr/local/lib/python3.10/dist-packages (from torch->stable-ts==2.18.0) (3.4.2)\n",
            "Requirement already satisfied: jinja2 in /usr/local/lib/python3.10/dist-packages (from torch->stable-ts==2.18.0) (3.1.4)\n",
            "Requirement already satisfied: fsspec in /usr/local/lib/python3.10/dist-packages (from torch->stable-ts==2.18.0) (2024.10.0)\n",
            "Requirement already satisfied: sympy==1.13.1 in /usr/local/lib/python3.10/dist-packages (from torch->stable-ts==2.18.0) (1.13.1)\n",
            "Requirement already satisfied: mpmath<1.4,>=1.1.0 in /usr/local/lib/python3.10/dist-packages (from sympy==1.13.1->torch->stable-ts==2.18.0) (1.3.0)\n",
            "Requirement already satisfied: MarkupSafe>=2.0 in /usr/local/lib/python3.10/dist-packages (from jinja2->torch->stable-ts==2.18.0) (3.0.2)\n",
            "Requirement already satisfied: llvmlite<0.44,>=0.43.0dev0 in /usr/local/lib/python3.10/dist-packages (from numba->openai-whisper<=20240930,>=20230314->stable-ts==2.18.0) (0.43.0)\n",
            "Requirement already satisfied: regex>=2022.1.18 in /usr/local/lib/python3.10/dist-packages (from tiktoken->openai-whisper<=20240930,>=20230314->stable-ts==2.18.0) (2024.11.6)\n",
            "Requirement already satisfied: requests>=2.26.0 in /usr/local/lib/python3.10/dist-packages (from tiktoken->openai-whisper<=20240930,>=20230314->stable-ts==2.18.0) (2.32.3)\n",
            "Requirement already satisfied: charset-normalizer<4,>=2 in /usr/local/lib/python3.10/dist-packages (from requests>=2.26.0->tiktoken->openai-whisper<=20240930,>=20230314->stable-ts==2.18.0) (3.4.0)\n",
            "Requirement already satisfied: idna<4,>=2.5 in /usr/local/lib/python3.10/dist-packages (from requests>=2.26.0->tiktoken->openai-whisper<=20240930,>=20230314->stable-ts==2.18.0) (3.10)\n",
            "Requirement already satisfied: urllib3<3,>=1.21.1 in /usr/local/lib/python3.10/dist-packages (from requests>=2.26.0->tiktoken->openai-whisper<=20240930,>=20230314->stable-ts==2.18.0) (2.2.3)\n",
            "Requirement already satisfied: certifi>=2017.4.17 in /usr/local/lib/python3.10/dist-packages (from requests>=2.26.0->tiktoken->openai-whisper<=20240930,>=20230314->stable-ts==2.18.0) (2024.12.14)\n"
          ]
        },
        {
          "output_type": "stream",
          "name": "stderr",
          "text": [
            "/usr/local/lib/python3.10/dist-packages/stable_whisper/whisper_compatibility.py:270: UserWarning: The installed version of Whisper might be incompatible.\n",
            "The detected version appears to be installed from the repository which can have compatibility issues due to multiple commits sharing the same version number. It is recommended to install version 20240930 from PyPI.\n",
            "To prevent errors and performance issues, install the latest compatible version: `pip install openai-whisper==20240930` \n",
            "Use `ignore_compatibility=True` to ignore this warning. Or use transcribe_minimal().\n",
            "  warnings.warn(compatibility_warning)\n",
            "/usr/local/lib/python3.10/dist-packages/stable_whisper/whisper_word_level/original_whisper.py:310: UserWarning: Word-level timestamps on translations may not be reliable.\n",
            "  warnings.warn(\"Word-level timestamps on translations may not be reliable.\")\n",
            "Translate:   0%|          | 0/2581.52 [00:00<?, ?sec/s]"
          ]
        },
        {
          "output_type": "stream",
          "name": "stdout",
          "text": [
            "Detected language: german\n"
          ]
        },
        {
          "output_type": "stream",
          "name": "stderr",
          "text": [
            "Translate: 100%|██████████| 435.65/435.65 [00:56<00:00,  7.69sec/s]\n"
          ]
        },
        {
          "output_type": "stream",
          "name": "stdout",
          "text": [
            "Saved: /content/pop.srt\n"
          ]
        }
      ]
    },
    {
      "cell_type": "code",
      "source": [
        "# Adjustments for word-to-word subtitles\n",
        "import re\n",
        "from datetime import datetime, timedelta\n",
        "\n",
        "def parse_time(time_str):\n",
        "    return datetime.strptime(time_str, '%H:%M:%S,%f')\n",
        "\n",
        "def format_time(dt):\n",
        "    return dt.strftime('%H:%M:%S,%f')[:-3]\n",
        "\n",
        "def process_srt(input_file, output_file):\n",
        "    with open(input_file, 'r', encoding='utf-8') as f:\n",
        "        content = f.read()\n",
        "\n",
        "    # Split the content into subtitle blocks\n",
        "    subtitle_blocks = re.split(r'\\n\\n', content.strip())\n",
        "\n",
        "    processed_blocks = []\n",
        "    for i in range(len(subtitle_blocks)):\n",
        "        current_block = subtitle_blocks[i].split('\\n')\n",
        "\n",
        "        if len(current_block) < 3:  # Skip invalid blocks\n",
        "            continue\n",
        "\n",
        "        # Process timing\n",
        "        times = current_block[1].split(' --> ')\n",
        "        start_time = parse_time(times[0])\n",
        "        end_time = parse_time(times[1])\n",
        "\n",
        "        # Check if we need to adjust the end time\n",
        "        if i < len(subtitle_blocks) - 1:\n",
        "            next_block = subtitle_blocks[i+1].split('\\n')\n",
        "            if len(next_block) >= 3:\n",
        "                next_start_time = parse_time(next_block[1].split(' --> ')[0])\n",
        "\n",
        "                # Check if the current dialogue doesn't end with , . or ?\n",
        "                if not current_block[-1].strip().endswith((',', '.', '?')):\n",
        "                    # Adjust end_time to be the same as next_start_time\n",
        "                    end_time = next_start_time\n",
        "\n",
        "        # Update the timing line\n",
        "        current_block[1] = f\"{format_time(start_time)} --> {format_time(end_time)}\"\n",
        "\n",
        "        processed_blocks.append('\\n'.join(current_block))\n",
        "\n",
        "    # Write the processed content to the output file\n",
        "    with open(output_file, 'w', encoding='utf-8') as f:\n",
        "        f.write('\\n\\n'.join(processed_blocks))\n",
        "\n",
        "# Usage\n",
        "input_file = 'pop.srt'\n",
        "output_file = 'finale.srt'\n",
        "process_srt(input_file, output_file)"
      ],
      "metadata": {
        "id": "dKtVOVkhpuM0"
      },
      "execution_count": 22,
      "outputs": []
    },
    {
      "cell_type": "code",
      "source": [],
      "metadata": {
        "id": "yJqzytQo4wS5"
      },
      "execution_count": null,
      "outputs": []
    }
  ]
}